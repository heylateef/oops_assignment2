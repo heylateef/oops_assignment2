{
 "cells": [
  {
   "attachments": {},
   "cell_type": "markdown",
   "metadata": {},
   "source": [
    "Q1. Explain Class and Object with respect to Object-Oriented Programming. Give a suitable example."
   ]
  },
  {
   "attachments": {},
   "cell_type": "markdown",
   "metadata": {},
   "source": [
    "Ans: Class:class is a  blueprint or template that defines the characteristics and behaviors (methods and properties) that an object of that class will possess. It serves as a blueprint for creating objects, providing a structure for organizing and encapsulating related data and functions.\n",
    "\n",
    "object:An object, on the other hand, is an instance of a class. It represents a specific entity or thing based on the class definition, and it can have its own unique state and behavior while inheriting the characteristics defined in the class."
   ]
  },
  {
   "cell_type": "code",
   "execution_count": null,
   "metadata": {},
   "outputs": [],
   "source": [
    "#Example\n",
    "#Creating a class\n",
    "class car:\n",
    "    def __init__(self, name, model,speed):\n",
    "        self.name = name\n",
    "        self.model = model\n",
    "        self.speed = speed\n",
    "    def get_car_info(self):\n",
    "        print(\"The Car Name is:\",self.name)\n",
    "        print(\"The Model of the car is :\",self.model)\n",
    "        print('The Speed of the car is:',self.speed)\n",
    "#Creating the object\n",
    "mycar=car(\"Innova\",2016,200)\n",
    "#call the method using object\n",
    "mycar.get_car_info()\n"
   ]
  },
  {
   "attachments": {},
   "cell_type": "markdown",
   "metadata": {},
   "source": [
    "Q2. Name the four pillars of OOPs."
   ]
  },
  {
   "attachments": {},
   "cell_type": "markdown",
   "metadata": {},
   "source": [
    "Ans: The Four Pillars of oops are : polymorphism, encapsulation, abstraction and inheritance"
   ]
  },
  {
   "attachments": {},
   "cell_type": "markdown",
   "metadata": {},
   "source": [
    "Q3. Explain why the __init__() function is used. Give a suitable example."
   ]
  },
  {
   "attachments": {},
   "cell_type": "markdown",
   "metadata": {},
   "source": [
    "The __init__() function is a special method in Python classes that is used to initialize objects of a class. It is also known as the constructor method. When an object is created from a class, the __init__() method is automatically called, allowing you to perform any necessary initialization tasks."
   ]
  },
  {
   "cell_type": "code",
   "execution_count": null,
   "metadata": {},
   "outputs": [],
   "source": [
    "class Person:\n",
    "    def __init__(self, name, age):\n",
    "        self.name = name\n",
    "        self.age = age\n",
    "\n",
    "    def display_info(self):\n",
    "        print(f\"Name: {self.name}, Age: {self.age}\")\n",
    "\n",
    "\n",
    "# Creating objects of the Person class\n",
    "person1 = Person(\"Alice\", 25)\n",
    "person2 = Person(\"Bob\", 30)\n",
    "\n",
    "# Accessing object attributes\n",
    "print(person1.name)  \n",
    "print(person2.age)  \n",
    "\n",
    "# Calling object methods\n",
    "person1.display_info()  \n",
    "person2.display_info() \n"
   ]
  },
  {
   "cell_type": "markdown",
   "metadata": {},
   "source": [
    "Q4. Why self is used in OOPs?"
   ]
  },
  {
   "cell_type": "markdown",
   "metadata": {},
   "source": [
    "Ans:In object-oriented programming, \"self\" is like a special word that helps a class know and talk about itself. When you create objects from a class, \"self\" allows each object to keep track of its own information separately from others. It's used to access and change the object's unique data and actions. This way, each object maintains its identity and behaves differently from others, making the code easier to understand and organize. \"Self\" makes the code more readable by showing that you are working with the current object's properties and actions.\n",
    "\n",
    "\n"
   ]
  },
  {
   "cell_type": "markdown",
   "metadata": {},
   "source": [
    "Q5. What is inheritance? Give an example for each type of inheritance."
   ]
  },
  {
   "cell_type": "markdown",
   "metadata": {},
   "source": [
    "inheritance is a way to share code between different classes. When a class inherits from another class, it gets all of the properties and methods of the base class. This means that you can reuse code and avoid duplicating code.\n",
    "\n",
    "For example, let's say you have a Vehicle class that has properties and methods for moving, such as drive() and stop(). You can create a Car class that inherits from the Vehicle class. This means that the Car class will have all of the properties and methods of the Vehicle class, plus any additional properties and methods that are specific to cars, such as honk() and openDoor().\n",
    "\n",
    "There are three main types of inheritance:\n",
    "\n",
    "Single inheritance is when a class inherits from only one other class.\n",
    "Multiple inheritance is when a class inherits from two or more other classes.\n",
    "Multilevel inheritance is when a class inherits from another class that already inherits from another class."
   ]
  },
  {
   "cell_type": "code",
   "execution_count": null,
   "metadata": {},
   "outputs": [],
   "source": [
    "#Single inheritance example\n",
    "class Rectangle:\n",
    "    def __init__(self, length, width):\n",
    "        self.length = length\n",
    "        self.width = width\n",
    "\n",
    "    def calculate_area(self):\n",
    "        return self.length * self.width\n",
    "\n",
    "# Get user input for rectangle dimensions\n",
    "length = float(input(\"Enter the length of the rectangle: \"))\n",
    "width = float(input(\"Enter the width of the rectangle: \"))\n",
    "\n",
    "# Create a rectangle object and calculate its area\n",
    "rectangle = Rectangle(length, width)\n",
    "area = rectangle.calculate_area()\n",
    "\n",
    "# Display the area of the rectangle\n",
    "print(f\"The area of the rectangle is: {area}\")\n",
    "\n",
    "\n"
   ]
  },
  {
   "cell_type": "code",
   "execution_count": null,
   "metadata": {},
   "outputs": [],
   "source": [
    "#Multiple inheritance example\n",
    "class Animal:\n",
    "    def __init__(self, name):\n",
    "        self.name = name\n",
    "\n",
    "    def make_sound(self):\n",
    "        pass  # Abstract method, will be implemented in the derived class\n",
    "\n",
    "    def show_info(self):\n",
    "        print(f\"I am an animal named {self.name}.\")\n",
    "\n",
    "class Flyable:\n",
    "    def fly(self):\n",
    "        print(\"I can fly!\")\n",
    "\n",
    "class Bird(Animal, Flyable):\n",
    "    def __init__(self, name, species):\n",
    "        super().__init__(name)\n",
    "        self.species = species\n",
    "\n",
    "    def make_sound(self):\n",
    "        print(\"Chirp!\")\n",
    "\n",
    "    def show_info(self):\n",
    "        super().show_info()\n",
    "        print(f\"I am a bird of species {self.species}.\")\n",
    "\n",
    "# Create an instance of Bird and call its methods\n",
    "bird1 = Bird(\"Tweety\", \"Canary\")\n",
    "bird1.make_sound()\n",
    "bird1.show_info()\n",
    "bird1.fly()\n"
   ]
  },
  {
   "cell_type": "code",
   "execution_count": null,
   "metadata": {},
   "outputs": [],
   "source": [
    "#multilevel inheritance example\n",
    "class Animal:\n",
    "    def __init__(self, name):\n",
    "        self.name = name\n",
    "\n",
    "    def make_sound(self):\n",
    "        pass  # Abstract method, will be implemented in the derived class\n",
    "\n",
    "    def show_info(self):\n",
    "        print(f\"I am an animal named {self.name}.\")\n",
    "\n",
    "class Dog(Animal):\n",
    "    def __init__(self, name, breed):\n",
    "        super().__init__(name)\n",
    "        self.breed = breed\n",
    "\n",
    "    def make_sound(self):\n",
    "        print(\"Woof!\")\n",
    "\n",
    "    def show_info(self):\n",
    "        super().show_info()\n",
    "        print(f\"I am a dog of breed {self.breed}.\")\n",
    "\n",
    "class Bulldog(Dog):\n",
    "    def __init__(self, name, breed, weight):\n",
    "        super().__init__(name, breed)\n",
    "        self.weight = weight\n",
    "\n",
    "    def make_sound(self):\n",
    "        print(\"Bark! Bark!\")\n",
    "\n",
    "    def show_info(self):\n",
    "        super().show_info()\n",
    "        print(f\"I am a bulldog of weight {self.weight} kg.\")\n",
    "\n",
    "# Create an instance of Bulldog and call its methods\n",
    "bulldog1 = Bulldog(\"Rocky\", \"Bulldog\", 25)\n",
    "bulldog1.make_sound()\n",
    "bulldog1.show_info()\n"
   ]
  }
 ],
 "metadata": {
  "kernelspec": {
   "display_name": "Python 3",
   "language": "python",
   "name": "python3"
  },
  "language_info": {
   "codemirror_mode": {
    "name": "ipython",
    "version": 3
   },
   "file_extension": ".py",
   "mimetype": "text/x-python",
   "name": "python",
   "nbconvert_exporter": "python",
   "pygments_lexer": "ipython3",
   "version": "3.11.2"
  },
  "orig_nbformat": 4
 },
 "nbformat": 4,
 "nbformat_minor": 2
}
